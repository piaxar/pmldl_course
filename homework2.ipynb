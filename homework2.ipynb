{
 "cells": [
  {
   "cell_type": "code",
   "execution_count": 1,
   "metadata": {
    "ExecuteTime": {
     "end_time": "2019-02-04T19:38:36.696635Z",
     "start_time": "2019-02-04T19:38:35.601526Z"
    }
   },
   "outputs": [
    {
     "name": "stderr",
     "output_type": "stream",
     "text": [
      "Using TensorFlow backend.\n",
      "/usr/lib/python3.6/importlib/_bootstrap.py:219: RuntimeWarning: numpy.dtype size changed, may indicate binary incompatibility. Expected 96, got 88\n",
      "  return f(*args, **kwds)\n",
      "/usr/lib/python3.6/importlib/_bootstrap.py:219: RuntimeWarning: numpy.dtype size changed, may indicate binary incompatibility. Expected 96, got 88\n",
      "  return f(*args, **kwds)\n"
     ]
    }
   ],
   "source": [
    "from keras.layers import Dense, Input, Activation, ELU, Flatten, Conv2D\n",
    "from keras.models import Sequential\n",
    "import keras\n",
    "import numpy as np"
   ]
  },
  {
   "cell_type": "code",
   "execution_count": 2,
   "metadata": {
    "ExecuteTime": {
     "end_time": "2019-02-04T19:38:37.472210Z",
     "start_time": "2019-02-04T19:38:36.698314Z"
    }
   },
   "outputs": [],
   "source": [
    "from keras import backend as K\n",
    "import tensorflow as tf\n",
    "with K.tf.device('/gpu:0'):\n",
    "    config = tf.ConfigProto(intra_op_parallelism_threads=4,\\\n",
    "           inter_op_parallelism_threads=4, allow_soft_placement=True,\\\n",
    "           device_count = {'CPU' : 1, 'GPU' : 1})\n",
    "    session = tf.Session(config=config)\n",
    "    K.set_session(session)"
   ]
  },
  {
   "cell_type": "markdown",
   "metadata": {},
   "source": [
    "# Part"
   ]
  },
  {
   "cell_type": "code",
   "execution_count": 3,
   "metadata": {
    "ExecuteTime": {
     "end_time": "2019-02-04T19:38:37.723351Z",
     "start_time": "2019-02-04T19:38:37.474075Z"
    }
   },
   "outputs": [],
   "source": [
    "from keras.utils import to_categorical\n",
    "dataset = keras.datasets.mnist.load_data()\n",
    "\n",
    "X_train = dataset[0][0]\n",
    "y_train = dataset[0][1]\n",
    "X_test = dataset[1][0]\n",
    "y_test = dataset[1][1]\n",
    "\n",
    "X_train = np.reshape(X_train, (X_train.shape[0], 28, 28, 1))\n",
    "X_test = np.reshape(X_test, (X_test.shape[0], 28, 28, 1))\n",
    "\n",
    "digits_train = {}\n",
    "digits_test = {}\n",
    "\n",
    "for i in range(10):\n",
    "    digits_train[i] = np.where(y_train==i)[0]\n",
    "    digits_test[i] = np.where(y_test==i)[0]\n",
    "    \n",
    "X_train0 = X_train[np.concatenate([digits_train[i] for i in range(5)])]\n",
    "y_train0 = to_categorical(y_train[np.concatenate([digits_train[i] for i in range(5)])], num_classes=5)\n",
    "\n",
    "X_test0 = X_test[np.concatenate([digits_test[i] for i in range(5)])]\n",
    "y_test0 = to_categorical(y_test[np.concatenate([digits_test[i] for i in range(5)])], num_classes=5)\n",
    "\n",
    "X_train5 = X_train[np.concatenate([digits_train[i] for i in range(5, 10)])]\n",
    "y_train5 = to_categorical(y_train[np.concatenate([digits_train[i] for i in range(5, 10)])] - 5, num_classes=5)\n",
    "\n",
    "X_test5 = X_test[np.concatenate([digits_test[i] for i in range(5, 10)])]\n",
    "y_test5 = to_categorical(y_test[np.concatenate([digits_test[i] for i in range(5, 10)])] - 5, num_classes=5)"
   ]
  },
  {
   "cell_type": "code",
   "execution_count": 4,
   "metadata": {
    "ExecuteTime": {
     "end_time": "2019-02-04T19:38:37.729546Z",
     "start_time": "2019-02-04T19:38:37.724879Z"
    }
   },
   "outputs": [],
   "source": [
    "from keras.optimizers import Adam\n",
    "from keras.layers import BatchNormalization, Dropout\n",
    "\n",
    "def get_model(he_init=False, dropout=False, batch_norm=False):\n",
    "    if he_init:\n",
    "        params = {'activation':keras.activations.elu, 'kernel_initializer':keras.initializers.he_uniform(seed=11)}\n",
    "    else:\n",
    "        params = {'activation':keras.activations.elu}\n",
    "            \n",
    "    model = Sequential()\n",
    "    model.add(Flatten())\n",
    "    model.add(Dense(100,**params))\n",
    "    if batch_norm: model.add(BatchNormalization())\n",
    "    if dropout: model.add(Dropout(0.5))\n",
    "    \n",
    "    model.add(Dense(100,**params))\n",
    "    if batch_norm: model.add(BatchNormalization())\n",
    "    if dropout: model.add(Dropout(0.5))\n",
    "    \n",
    "    model.add(Dense(100,**params))\n",
    "    \n",
    "    if batch_norm: model.add(BatchNormalization())\n",
    "    if dropout: model.add(Dropout(0.5))\n",
    "        \n",
    "    model.add(Dense(100,**params))\n",
    "    if batch_norm: model.add(BatchNormalization())\n",
    "    if dropout: model.add(Dropout(0.5))\n",
    "    \n",
    "    model.add(Dense(100,**params))\n",
    "    if batch_norm: model.add(BatchNormalization())\n",
    "    if dropout: model.add(Dropout(0.5))\n",
    "        \n",
    "    model.add(Dense(5))\n",
    "    model.add(Activation('softmax'))\n",
    "    \n",
    "    return model"
   ]
  },
  {
   "cell_type": "code",
   "execution_count": 5,
   "metadata": {
    "ExecuteTime": {
     "end_time": "2019-02-04T19:40:07.016885Z",
     "start_time": "2019-02-04T19:38:37.730863Z"
    }
   },
   "outputs": [
    {
     "name": "stdout",
     "output_type": "stream",
     "text": [
      "Train on 30596 samples, validate on 5139 samples\n",
      "Epoch 1/10\n",
      "30596/30596 [==============================] - 10s 324us/step - loss: 0.1608 - acc: 0.9539 - val_loss: 0.0520 - val_acc: 0.9819\n",
      "Epoch 2/10\n",
      "30596/30596 [==============================] - 9s 279us/step - loss: 0.0916 - acc: 0.9745 - val_loss: 0.0407 - val_acc: 0.9883\n",
      "Epoch 3/10\n",
      "30596/30596 [==============================] - 8s 272us/step - loss: 0.0689 - acc: 0.9801 - val_loss: 0.0469 - val_acc: 0.9885\n",
      "Epoch 4/10\n",
      "30596/30596 [==============================] - 8s 273us/step - loss: 0.0608 - acc: 0.9825 - val_loss: 0.0358 - val_acc: 0.9897\n",
      "Epoch 5/10\n",
      "30596/30596 [==============================] - 10s 336us/step - loss: 0.0482 - acc: 0.9865 - val_loss: 0.0227 - val_acc: 0.9926\n",
      "Epoch 6/10\n",
      "30596/30596 [==============================] - 9s 286us/step - loss: 0.0422 - acc: 0.9882 - val_loss: 0.0286 - val_acc: 0.9909\n",
      "Epoch 7/10\n",
      "30596/30596 [==============================] - 8s 271us/step - loss: 0.0401 - acc: 0.9883 - val_loss: 0.0323 - val_acc: 0.9889\n",
      "Epoch 8/10\n",
      "30596/30596 [==============================] - 8s 273us/step - loss: 0.0408 - acc: 0.9881 - val_loss: 0.0432 - val_acc: 0.9870\n",
      "Epoch 9/10\n",
      "30596/30596 [==============================] - 9s 279us/step - loss: 0.0308 - acc: 0.9902 - val_loss: 0.0362 - val_acc: 0.9883\n",
      "Epoch 10/10\n",
      "30596/30596 [==============================] - 8s 275us/step - loss: 0.0281 - acc: 0.9917 - val_loss: 0.0290 - val_acc: 0.9910\n"
     ]
    }
   ],
   "source": [
    "BATCH_SIZE = 32\n",
    "N_EPOCHS = 10\n",
    "optimizer = keras.optimizers.Adam(lr=0.01, beta_1=0.9, beta_2=0.999, epsilon=1e-8)\n",
    "loss = 'categorical_crossentropy'\n",
    "metrics = ['accuracy']\n",
    "\n",
    "model = get_model(batch_norm=1)\n",
    "\n",
    "model.compile(optimizer=optimizer, \n",
    "              loss=loss,\n",
    "              metrics=metrics\n",
    "             )\n",
    "\n",
    "logs = model.fit(X_train0, y_train0,\n",
    "          batch_size=BATCH_SIZE,\n",
    "          epochs=N_EPOCHS,\n",
    "          verbose=1, \n",
    "          validation_data=(X_test0, y_test0)\n",
    "         )"
   ]
  },
  {
   "cell_type": "code",
   "execution_count": 6,
   "metadata": {
    "ExecuteTime": {
     "end_time": "2019-02-04T19:40:07.220033Z",
     "start_time": "2019-02-04T19:40:07.019821Z"
    }
   },
   "outputs": [
    {
     "data": {
      "image/png": "[encoded data removed]",
      "text/plain": [
       "<Figure size 432x288 with 1 Axes>"
      ]
     },
     "metadata": {
      "needs_background": "light"
     },
     "output_type": "display_data"
    }
   ],
   "source": [
    "import matplotlib.pyplot as plt\n",
    "%matplotlib inline\n",
    "\n",
    "for param in ['loss']:\n",
    "    for prefix in ['', 'val_']:\n",
    "        key= prefix+param\n",
    "        plt.plot(logs.history[key],label=key)\n",
    "plt.legend()\n",
    "plt.show()"
   ]
  },
  {
   "cell_type": "code",
   "execution_count": 7,
   "metadata": {
    "ExecuteTime": {
     "end_time": "2019-02-04T19:40:07.356646Z",
     "start_time": "2019-02-04T19:40:07.221712Z"
    }
   },
   "outputs": [
    {
     "data": {
      "image/png": "[encoded data removed]",
      "text/plain": [
       "<Figure size 432x288 with 1 Axes>"
      ]
     },
     "metadata": {
      "needs_background": "light"
     },
     "output_type": "display_data"
    }
   ],
   "source": [
    "for param in ['acc']:\n",
    "    for prefix in ['', 'val_']:\n",
    "        key= prefix+param\n",
    "        plt.plot(logs.history[key],label=key)\n",
    "plt.legend()\n",
    "plt.show()"
   ]
  },
  {
   "cell_type": "markdown",
   "metadata": {},
   "source": [
    "# Part"
   ]
  },
  {
   "cell_type": "markdown",
   "metadata": {},
   "source": [
    "Transfer learning"
   ]
  },
  {
   "cell_type": "code",
   "execution_count": 8,
   "metadata": {
    "ExecuteTime": {
     "end_time": "2019-02-04T19:40:07.365304Z",
     "start_time": "2019-02-04T19:40:07.358165Z"
    }
   },
   "outputs": [
    {
     "name": "stdout",
     "output_type": "stream",
     "text": [
      "_________________________________________________________________\n",
      "Layer (type)                 Output Shape              Param #   \n",
      "=================================================================\n",
      "sequential_1_input (InputLay (None, 28, 28, 1)         0         \n",
      "_________________________________________________________________\n",
      "flatten_1 (Flatten)          (None, 784)               0         \n",
      "_________________________________________________________________\n",
      "dense_1 (Dense)              (None, 100)               78500     \n",
      "_________________________________________________________________\n",
      "batch_normalization_1 (Batch (None, 100)               400       \n",
      "_________________________________________________________________\n",
      "dense_2 (Dense)              (None, 100)               10100     \n",
      "_________________________________________________________________\n",
      "batch_normalization_2 (Batch (None, 100)               400       \n",
      "_________________________________________________________________\n",
      "dense_3 (Dense)              (None, 100)               10100     \n",
      "_________________________________________________________________\n",
      "batch_normalization_3 (Batch (None, 100)               400       \n",
      "_________________________________________________________________\n",
      "dense_4 (Dense)              (None, 100)               10100     \n",
      "_________________________________________________________________\n",
      "batch_normalization_4 (Batch (None, 100)               400       \n",
      "_________________________________________________________________\n",
      "dense_5 (Dense)              (None, 100)               10100     \n",
      "_________________________________________________________________\n",
      "batch_normalization_5 (Batch (None, 100)               400       \n",
      "_________________________________________________________________\n",
      "dense_6 (Dense)              (None, 5)                 505       \n",
      "_________________________________________________________________\n",
      "activation_2 (Activation)    (None, 5)                 0         \n",
      "=================================================================\n",
      "Total params: 121,405\n",
      "Trainable params: 120,405\n",
      "Non-trainable params: 1,000\n",
      "_________________________________________________________________\n"
     ]
    },
    {
     "name": "stderr",
     "output_type": "stream",
     "text": [
      "/usr/local/lib/python3.6/dist-packages/ipykernel_launcher.py:3: UserWarning: Update your `Model` call to the Keras 2 API: `Model(inputs=Tensor(\"se..., outputs=[<tf.Tenso...)`\n",
      "  This is separate from the ipykernel package so we can avoid doing imports until\n"
     ]
    }
   ],
   "source": [
    "from keras.models import Model\n",
    "o = (Activation('softmax'))(model.layers[-2].output)\n",
    "model2 = Model(input=model.input, output=[o])\n",
    "model2.summary()"
   ]
  },
  {
   "cell_type": "code",
   "execution_count": 9,
   "metadata": {
    "ExecuteTime": {
     "end_time": "2019-02-04T19:40:07.381766Z",
     "start_time": "2019-02-04T19:40:07.368927Z"
    }
   },
   "outputs": [],
   "source": [
    "#freezing layers\n",
    "for layer in model2.layers:\n",
    "    if layer.name != 'dense_6':\n",
    "        layer.trainable = False"
   ]
  },
  {
   "cell_type": "code",
   "execution_count": 10,
   "metadata": {
    "ExecuteTime": {
     "end_time": "2019-02-04T19:40:07.409393Z",
     "start_time": "2019-02-04T19:40:07.384073Z"
    }
   },
   "outputs": [
    {
     "name": "stdout",
     "output_type": "stream",
     "text": [
      "_________________________________________________________________\n",
      "Layer (type)                 Output Shape              Param #   \n",
      "=================================================================\n",
      "sequential_1_input (InputLay (None, 28, 28, 1)         0         \n",
      "_________________________________________________________________\n",
      "flatten_1 (Flatten)          (None, 784)               0         \n",
      "_________________________________________________________________\n",
      "dense_1 (Dense)              (None, 100)               78500     \n",
      "_________________________________________________________________\n",
      "batch_normalization_1 (Batch (None, 100)               400       \n",
      "_________________________________________________________________\n",
      "dense_2 (Dense)              (None, 100)               10100     \n",
      "_________________________________________________________________\n",
      "batch_normalization_2 (Batch (None, 100)               400       \n",
      "_________________________________________________________________\n",
      "dense_3 (Dense)              (None, 100)               10100     \n",
      "_________________________________________________________________\n",
      "batch_normalization_3 (Batch (None, 100)               400       \n",
      "_________________________________________________________________\n",
      "dense_4 (Dense)              (None, 100)               10100     \n",
      "_________________________________________________________________\n",
      "batch_normalization_4 (Batch (None, 100)               400       \n",
      "_________________________________________________________________\n",
      "dense_5 (Dense)              (None, 100)               10100     \n",
      "_________________________________________________________________\n",
      "batch_normalization_5 (Batch (None, 100)               400       \n",
      "_________________________________________________________________\n",
      "dense_6 (Dense)              (None, 5)                 505       \n",
      "_________________________________________________________________\n",
      "activation_2 (Activation)    (None, 5)                 0         \n",
      "=================================================================\n",
      "Total params: 121,405\n",
      "Trainable params: 505\n",
      "Non-trainable params: 120,900\n",
      "_________________________________________________________________\n"
     ]
    }
   ],
   "source": [
    "model2.summary()"
   ]
  },
  {
   "cell_type": "code",
   "execution_count": 11,
   "metadata": {
    "ExecuteTime": {
     "end_time": "2019-02-04T19:40:37.882153Z",
     "start_time": "2019-02-04T19:40:07.413307Z"
    }
   },
   "outputs": [
    {
     "name": "stdout",
     "output_type": "stream",
     "text": [
      "Train on 29404 samples, validate on 4861 samples\n",
      "Epoch 1/10\n",
      "29404/29404 [==============================] - 3s 114us/step - loss: 2.4777 - acc: 0.4933 - val_loss: 1.1906 - val_acc: 0.5161\n",
      "Epoch 2/10\n",
      "29404/29404 [==============================] - 3s 102us/step - loss: 1.1224 - acc: 0.5716 - val_loss: 1.0946 - val_acc: 0.5571\n",
      "Epoch 3/10\n",
      "29404/29404 [==============================] - 3s 101us/step - loss: 1.0471 - acc: 0.5896 - val_loss: 1.1175 - val_acc: 0.5441\n",
      "Epoch 4/10\n",
      "29404/29404 [==============================] - 3s 101us/step - loss: 1.0316 - acc: 0.5963 - val_loss: 1.1078 - val_acc: 0.5526\n",
      "Epoch 5/10\n",
      "29404/29404 [==============================] - 3s 100us/step - loss: 1.0203 - acc: 0.5985 - val_loss: 1.1173 - val_acc: 0.5435\n",
      "Epoch 6/10\n",
      "29404/29404 [==============================] - 3s 103us/step - loss: 1.0166 - acc: 0.5994 - val_loss: 1.1135 - val_acc: 0.5495\n",
      "Epoch 7/10\n",
      "29404/29404 [==============================] - 3s 100us/step - loss: 1.0066 - acc: 0.6016 - val_loss: 1.1114 - val_acc: 0.5487\n",
      "Epoch 8/10\n",
      "29404/29404 [==============================] - 3s 106us/step - loss: 1.0069 - acc: 0.5987 - val_loss: 1.1139 - val_acc: 0.5447\n",
      "Epoch 9/10\n",
      "29404/29404 [==============================] - 3s 101us/step - loss: 1.0078 - acc: 0.5993 - val_loss: 1.1175 - val_acc: 0.5456\n",
      "Epoch 10/10\n",
      "29404/29404 [==============================] - 3s 102us/step - loss: 1.0070 - acc: 0.5992 - val_loss: 1.0985 - val_acc: 0.5517\n"
     ]
    }
   ],
   "source": [
    "BATCH_SIZE = 32\n",
    "N_EPOCHS = 10\n",
    "optimizer = keras.optimizers.Adam(lr=0.001, beta_1=0.9, beta_2=0.999, epsilon=1e-8)\n",
    "loss = 'categorical_crossentropy'\n",
    "metrics = ['accuracy']\n",
    "\n",
    "model2.compile(optimizer=optimizer, \n",
    "              loss=loss,\n",
    "              metrics=metrics\n",
    "             )\n",
    "\n",
    "logs = model2.fit(X_train5, y_train5,\n",
    "          batch_size=BATCH_SIZE,\n",
    "          epochs=N_EPOCHS,\n",
    "          verbose=1, \n",
    "          validation_data=(X_test5, y_test5)\n",
    "         )"
   ]
  },
  {
   "cell_type": "markdown",
   "metadata": {},
   "source": [
    "Unfreeze more layers"
   ]
  },
  {
   "cell_type": "code",
   "execution_count": 12,
   "metadata": {
    "ExecuteTime": {
     "end_time": "2019-02-04T19:40:37.889185Z",
     "start_time": "2019-02-04T19:40:37.885309Z"
    }
   },
   "outputs": [],
   "source": [
    "#unfreezing layers\n",
    "for layer in model2.layers:\n",
    "    if layer.name in ['dense_5', 'dense_4']:\n",
    "        layer.trainable = True"
   ]
  },
  {
   "cell_type": "code",
   "execution_count": 13,
   "metadata": {
    "ExecuteTime": {
     "end_time": "2019-02-04T19:41:25.193112Z",
     "start_time": "2019-02-04T19:40:37.891845Z"
    }
   },
   "outputs": [
    {
     "name": "stdout",
     "output_type": "stream",
     "text": [
      "Train on 29404 samples, validate on 4861 samples\n",
      "Epoch 1/10\n",
      "29404/29404 [==============================] - 5s 183us/step - loss: 0.9758 - acc: 0.6121 - val_loss: 1.1288 - val_acc: 0.5454\n",
      "Epoch 2/10\n",
      "29404/29404 [==============================] - 4s 148us/step - loss: 0.9416 - acc: 0.6312 - val_loss: 1.1515 - val_acc: 0.5380\n",
      "Epoch 3/10\n",
      "29404/29404 [==============================] - 4s 143us/step - loss: 0.9022 - acc: 0.6540 - val_loss: 1.1738 - val_acc: 0.5273\n",
      "Epoch 4/10\n",
      "29404/29404 [==============================] - 4s 148us/step - loss: 0.8591 - acc: 0.6742 - val_loss: 1.2130 - val_acc: 0.5102\n",
      "Epoch 5/10\n",
      "29404/29404 [==============================] - 4s 145us/step - loss: 0.8146 - acc: 0.7001 - val_loss: 1.2493 - val_acc: 0.4871\n",
      "Epoch 6/10\n",
      "29404/29404 [==============================] - 4s 149us/step - loss: 0.7587 - acc: 0.7250 - val_loss: 1.2845 - val_acc: 0.4485\n",
      "Epoch 7/10\n",
      "29404/29404 [==============================] - 4s 149us/step - loss: 0.7102 - acc: 0.7425 - val_loss: 1.2779 - val_acc: 0.4230\n",
      "Epoch 8/10\n",
      "29404/29404 [==============================] - 6s 202us/step - loss: 0.6868 - acc: 0.7500 - val_loss: 1.3380 - val_acc: 0.4147\n",
      "Epoch 9/10\n",
      "29404/29404 [==============================] - 5s 180us/step - loss: 0.6679 - acc: 0.7570 - val_loss: 1.3503 - val_acc: 0.3783\n",
      "Epoch 10/10\n",
      "29404/29404 [==============================] - 4s 145us/step - loss: 0.6419 - acc: 0.7677 - val_loss: 1.3874 - val_acc: 0.3767\n"
     ]
    }
   ],
   "source": [
    "BATCH_SIZE = 32\n",
    "N_EPOCHS = 10\n",
    "optimizer = keras.optimizers.Adam(lr=0.001, beta_1=0.9, beta_2=0.999, epsilon=1e-8)\n",
    "loss = 'categorical_crossentropy'\n",
    "metrics = ['accuracy']\n",
    "\n",
    "model2.compile(optimizer=optimizer, \n",
    "              loss=loss,\n",
    "              metrics=metrics\n",
    "             )\n",
    "\n",
    "logs = model2.fit(X_train5, y_train5,\n",
    "          batch_size=BATCH_SIZE,\n",
    "          epochs=N_EPOCHS,\n",
    "          verbose=1, \n",
    "          validation_data=(X_test5, y_test5)\n",
    "         )"
   ]
  },
  {
   "cell_type": "markdown",
   "metadata": {},
   "source": [
    "And even more"
   ]
  },
  {
   "cell_type": "code",
   "execution_count": 14,
   "metadata": {
    "ExecuteTime": {
     "end_time": "2019-02-04T19:41:25.199015Z",
     "start_time": "2019-02-04T19:41:25.195544Z"
    }
   },
   "outputs": [],
   "source": [
    "#unfreezing layers\n",
    "for layer in model2.layers:\n",
    "    if layer.name in ['dense_3', 'dense_2']:\n",
    "        layer.trainable = True"
   ]
  },
  {
   "cell_type": "code",
   "execution_count": 15,
   "metadata": {
    "ExecuteTime": {
     "end_time": "2019-02-04T19:42:21.009947Z",
     "start_time": "2019-02-04T19:41:25.201566Z"
    }
   },
   "outputs": [
    {
     "name": "stdout",
     "output_type": "stream",
     "text": [
      "Train on 29404 samples, validate on 4861 samples\n",
      "Epoch 1/10\n",
      "29404/29404 [==============================] - 6s 208us/step - loss: 0.4843 - acc: 0.8321 - val_loss: 1.2175 - val_acc: 0.4666\n",
      "Epoch 2/10\n",
      "29404/29404 [==============================] - 5s 183us/step - loss: 0.3501 - acc: 0.8811 - val_loss: 1.1341 - val_acc: 0.4980\n",
      "Epoch 3/10\n",
      "29404/29404 [==============================] - 5s 183us/step - loss: 0.2831 - acc: 0.9036 - val_loss: 1.1150 - val_acc: 0.5180\n",
      "Epoch 4/10\n",
      "29404/29404 [==============================] - 5s 186us/step - loss: 0.2461 - acc: 0.9170 - val_loss: 1.0992 - val_acc: 0.5289\n",
      "Epoch 5/10\n",
      "29404/29404 [==============================] - 5s 185us/step - loss: 0.2235 - acc: 0.9251 - val_loss: 1.0561 - val_acc: 0.5600\n",
      "Epoch 6/10\n",
      "29404/29404 [==============================] - 5s 184us/step - loss: 0.2067 - acc: 0.9306 - val_loss: 1.0849 - val_acc: 0.5505\n",
      "Epoch 7/10\n",
      "29404/29404 [==============================] - 5s 186us/step - loss: 0.1927 - acc: 0.9353 - val_loss: 1.0810 - val_acc: 0.5507\n",
      "Epoch 8/10\n",
      "29404/29404 [==============================] - 6s 188us/step - loss: 0.1777 - acc: 0.9398 - val_loss: 1.0554 - val_acc: 0.5367\n",
      "Epoch 9/10\n",
      "29404/29404 [==============================] - 5s 185us/step - loss: 0.1710 - acc: 0.9436 - val_loss: 1.1179 - val_acc: 0.5433\n",
      "Epoch 10/10\n",
      "29404/29404 [==============================] - 5s 183us/step - loss: 0.1618 - acc: 0.9467 - val_loss: 1.0825 - val_acc: 0.5530\n"
     ]
    }
   ],
   "source": [
    "BATCH_SIZE = 32\n",
    "N_EPOCHS = 10\n",
    "optimizer = keras.optimizers.Adam(lr=0.001, beta_1=0.9, beta_2=0.999, epsilon=1e-8)\n",
    "loss = 'categorical_crossentropy'\n",
    "metrics = ['accuracy']\n",
    "\n",
    "model2.compile(optimizer=optimizer, \n",
    "              loss=loss,\n",
    "              metrics=metrics\n",
    "             )\n",
    "\n",
    "logs = model2.fit(X_train5, y_train5,\n",
    "          batch_size=BATCH_SIZE,\n",
    "          epochs=N_EPOCHS,\n",
    "          verbose=1, \n",
    "          validation_data=(X_test5, y_test5)\n",
    "         )"
   ]
  }
 ],
 "metadata": {
  "kernelspec": {
   "display_name": "Python 3",
   "language": "python",
   "name": "python3"
  },
  "language_info": {
   "codemirror_mode": {
    "name": "ipython",
    "version": 3
   },
   "file_extension": ".py",
   "mimetype": "text/x-python",
   "name": "python",
   "nbconvert_exporter": "python",
   "pygments_lexer": "ipython3",
   "version": "3.6.6"
  },
  "toc": {
   "base_numbering": 1,
   "nav_menu": {},
   "number_sections": true,
   "sideBar": true,
   "skip_h1_title": false,
   "title_cell": "Table of Contents",
   "title_sidebar": "Contents",
   "toc_cell": false,
   "toc_position": {},
   "toc_section_display": true,
   "toc_window_display": false
  }
 },
 "nbformat": 4,
 "nbformat_minor": 2
}
